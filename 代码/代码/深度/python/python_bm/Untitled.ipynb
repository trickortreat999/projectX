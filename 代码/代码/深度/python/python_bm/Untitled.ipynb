{
 "cells": [
  {
   "cell_type": "code",
   "execution_count": 1,
   "metadata": {},
   "outputs": [
    {
     "name": "stdout",
     "output_type": "stream",
     "text": [
      "[   318.81866   7916.6235  -27256.773  ]\n"
     ]
    },
    {
     "ename": "KeyboardInterrupt",
     "evalue": "",
     "output_type": "error",
     "traceback": [
      "\u001b[1;31m---------------------------------------------------------------------------\u001b[0m",
      "\u001b[1;31mKeyboardInterrupt\u001b[0m                         Traceback (most recent call last)",
      "\u001b[1;32m<ipython-input-1-a98b023ad7ed>\u001b[0m in \u001b[0;36m<module>\u001b[1;34m\u001b[0m\n\u001b[0;32m     45\u001b[0m     \u001b[0mdisp\u001b[0m \u001b[1;33m=\u001b[0m \u001b[0mcv2\u001b[0m\u001b[1;33m.\u001b[0m\u001b[0mnormalize\u001b[0m\u001b[1;33m(\u001b[0m\u001b[0mdisparity\u001b[0m\u001b[1;33m,\u001b[0m \u001b[0mdisparity\u001b[0m\u001b[1;33m,\u001b[0m \u001b[0malpha\u001b[0m\u001b[1;33m=\u001b[0m\u001b[1;36m0\u001b[0m\u001b[1;33m,\u001b[0m \u001b[0mbeta\u001b[0m\u001b[1;33m=\u001b[0m\u001b[1;36m255\u001b[0m\u001b[1;33m,\u001b[0m\u001b[0mnorm_type\u001b[0m\u001b[1;33m=\u001b[0m\u001b[0mcv2\u001b[0m\u001b[1;33m.\u001b[0m\u001b[0mNORM_MINMAX\u001b[0m\u001b[1;33m,\u001b[0m \u001b[0mdtype\u001b[0m\u001b[1;33m=\u001b[0m\u001b[0mcv2\u001b[0m\u001b[1;33m.\u001b[0m\u001b[0mCV_8U\u001b[0m\u001b[1;33m)\u001b[0m\u001b[1;33m\u001b[0m\u001b[1;33m\u001b[0m\u001b[0m\n\u001b[0;32m     46\u001b[0m \u001b[1;33m\u001b[0m\u001b[0m\n\u001b[1;32m---> 47\u001b[1;33m     \u001b[0mthreeD\u001b[0m \u001b[1;33m=\u001b[0m \u001b[0mcv2\u001b[0m\u001b[1;33m.\u001b[0m\u001b[0mreprojectImageTo3D\u001b[0m\u001b[1;33m(\u001b[0m\u001b[0mdisparity\u001b[0m\u001b[1;33m.\u001b[0m\u001b[0mastype\u001b[0m\u001b[1;33m(\u001b[0m\u001b[0mnp\u001b[0m\u001b[1;33m.\u001b[0m\u001b[0mfloat32\u001b[0m\u001b[1;33m)\u001b[0m\u001b[1;33m/\u001b[0m\u001b[1;36m16.\u001b[0m\u001b[1;33m,\u001b[0m \u001b[0mcamera_configs\u001b[0m\u001b[1;33m.\u001b[0m\u001b[0mQ\u001b[0m\u001b[1;33m)\u001b[0m\u001b[1;33m\u001b[0m\u001b[1;33m\u001b[0m\u001b[0m\n\u001b[0m\u001b[0;32m     48\u001b[0m \u001b[1;33m\u001b[0m\u001b[0m\n\u001b[0;32m     49\u001b[0m     \u001b[0mcv2\u001b[0m\u001b[1;33m.\u001b[0m\u001b[0mimshow\u001b[0m\u001b[1;33m(\u001b[0m\u001b[1;34m'left'\u001b[0m\u001b[1;33m,\u001b[0m \u001b[0mimg1_rectified\u001b[0m\u001b[1;33m)\u001b[0m\u001b[1;33m\u001b[0m\u001b[1;33m\u001b[0m\u001b[0m\n",
      "\u001b[1;31mKeyboardInterrupt\u001b[0m: "
     ]
    }
   ],
   "source": [
    "import cv2\n",
    "import numpy as np\n",
    "import camera_configs\n",
    "\n",
    "cv2.namedWindow('depth')\n",
    "cv2.moveWindow('left',0,0)\n",
    "cv2.moveWindow('right',640,0)\n",
    "cv2.createTrackbar('num','depth',2,10, lambda x: None)\n",
    "cv2.createTrackbar('blockSize','depth',5,255,lambda x: None)\n",
    "\n",
    "def callbackFunc(e,x,y,f,p):\n",
    "    if e == cv2.EVENT_LBUTTONDOWN:\n",
    "        print (threeD[y][x])\n",
    "\n",
    "cv2.setMouseCallback('depth',callbackFunc,None)\n",
    "\n",
    "\n",
    "cap = cv2.VideoCapture(0)\n",
    "cap.set(cv2.CAP_PROP_FRAME_WIDTH, 1280)\n",
    "cap.set(cv2.CAP_PROP_FRAME_HEIGHT, 480)\n",
    "while True:\n",
    "    ret,frame = cap.read()\n",
    "    frame1 = frame[0:480,0:640]\n",
    "    \n",
    "    \n",
    "    ret,frame = cap.read()\n",
    "    frame2 = frame[0:480,640:1280]\n",
    "\n",
    "    img1_rectified = cv2.remap(frame1, camera_configs.left_map1, camera_configs.left_map2, cv2.INTER_LINEAR)\n",
    "    img2_rectified = cv2.remap(frame2, camera_configs.right_map1, camera_configs.right_map2, cv2.INTER_LINEAR)\n",
    "\n",
    "    imgL = cv2.cvtColor(img1_rectified, cv2.COLOR_BGR2GRAY)\n",
    "    imgR = cv2.cvtColor(img2_rectified, cv2.COLOR_BGR2GRAY)\n",
    "\n",
    "    num = cv2.getTrackbarPos('num','depth')\n",
    "    blockSize = cv2.getTrackbarPos('blockSize','depth')\n",
    "    if blockSize % 2 == 0:\n",
    "        blockSize += 1\n",
    "    if blockSize <5:\n",
    "        blockSize = 5\n",
    "\n",
    "    stereo = cv2.StereoBM_create(numDisparities = 16*num,blockSize = 31)\n",
    "    disparity = stereo.compute(imgL,imgR)\n",
    "\n",
    "    disp = cv2.normalize(disparity, disparity, alpha=0, beta=255,norm_type=cv2.NORM_MINMAX, dtype=cv2.CV_8U)\n",
    "\n",
    "    threeD = cv2.reprojectImageTo3D(disparity.astype(np.float32)/16., camera_configs.Q)\n",
    "\n",
    "    cv2.imshow('left', img1_rectified)\n",
    "    cv2.imshow('right', img2_rectified)\n",
    "    cv2.imshow('depth', disp)\n",
    "\n",
    "    key = cv2.waitKey(1)\n",
    "    if key == ord('q'):\n",
    "        break\n",
    "    elif key == ord('s'):\n",
    "        cv2.imwrite(path_BM_left, imgL)\n",
    "        cv2.imwrite(path_BM_left, imgR)\n",
    "        cv.imwrite(path_BM_depth, disp)\n",
    "cap.release()\n",
    "cv2.destroyAllWindows()\n"
   ]
  },
  {
   "cell_type": "code",
   "execution_count": null,
   "metadata": {},
   "outputs": [],
   "source": []
  }
 ],
 "metadata": {
  "kernelspec": {
   "display_name": "Python 3",
   "language": "python",
   "name": "python3"
  },
  "language_info": {
   "codemirror_mode": {
    "name": "ipython",
    "version": 3
   },
   "file_extension": ".py",
   "mimetype": "text/x-python",
   "name": "python",
   "nbconvert_exporter": "python",
   "pygments_lexer": "ipython3",
   "version": "3.7.3"
  }
 },
 "nbformat": 4,
 "nbformat_minor": 2
}
